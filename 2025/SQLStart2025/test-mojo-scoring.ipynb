{
 "cells": [
  {
   "cell_type": "code",
   "execution_count": 1,
   "id": "e7abf8b9-2fbe-49a0-b9ef-e627a6d81ce7",
   "metadata": {
    "tags": []
   },
   "outputs": [],
   "source": [
    "import os\n",
    "import logging\n",
    "import json\n",
    "import h2o\n",
    "import pandas as pd"
   ]
  },
  {
   "cell_type": "code",
   "execution_count": 4,
   "id": "3da4a6c0-d272-42b2-95d4-9890f983f069",
   "metadata": {
    "tags": []
   },
   "outputs": [],
   "source": [
    "AZUREML_MODEL_DIR = r\"C:\\Users\\LucaZavarella\\OneDrive\\MVP\\Speaker\\202506 - SQL Start\\endpoints\\model\""
   ]
  },
  {
   "cell_type": "code",
   "execution_count": 6,
   "id": "fca716b0-8889-4ede-be87-86364f37c086",
   "metadata": {
    "tags": []
   },
   "outputs": [
    {
     "name": "stdout",
     "output_type": "stream",
     "text": [
      "Model path exists: C:\\Users\\LucaZavarella\\OneDrive\\MVP\\Speaker\\202506 - SQL Start\\endpoints\\model\\MOJO_model.zip\n"
     ]
    }
   ],
   "source": [
    "model_path = rf\"{AZUREML_MODEL_DIR}\\MOJO_model.zip\"\n",
    "if os.path.exists(model_path):\n",
    "    print(f\"Model path exists: {model_path}\")\n",
    "else:\n",
    "    print(f\"Model path does not exist: {model_path}\")"
   ]
  },
  {
   "cell_type": "code",
   "execution_count": 7,
   "id": "fb1805b5-be7b-4cc5-8220-ddd413dff77b",
   "metadata": {
    "tags": []
   },
   "outputs": [
    {
     "name": "stdout",
     "output_type": "stream",
     "text": [
      "Checking whether there is an H2O instance running at http://localhost:54321. connected.\n"
     ]
    },
    {
     "data": {
      "text/html": [
       "\n",
       "<style>\n",
       "\n",
       "#h2o-table-1.h2o-container {\n",
       "  overflow-x: auto;\n",
       "}\n",
       "#h2o-table-1 .h2o-table {\n",
       "  /* width: 100%; */\n",
       "  margin-top: 1em;\n",
       "  margin-bottom: 1em;\n",
       "}\n",
       "#h2o-table-1 .h2o-table caption {\n",
       "  white-space: nowrap;\n",
       "  caption-side: top;\n",
       "  text-align: left;\n",
       "  /* margin-left: 1em; */\n",
       "  margin: 0;\n",
       "  font-size: larger;\n",
       "}\n",
       "#h2o-table-1 .h2o-table thead {\n",
       "  white-space: nowrap; \n",
       "  position: sticky;\n",
       "  top: 0;\n",
       "  box-shadow: 0 -1px inset;\n",
       "}\n",
       "#h2o-table-1 .h2o-table tbody {\n",
       "  overflow: auto;\n",
       "}\n",
       "#h2o-table-1 .h2o-table th,\n",
       "#h2o-table-1 .h2o-table td {\n",
       "  text-align: right;\n",
       "  /* border: 1px solid; */\n",
       "}\n",
       "#h2o-table-1 .h2o-table tr:nth-child(even) {\n",
       "  /* background: #F5F5F5 */\n",
       "}\n",
       "\n",
       "</style>      \n",
       "<div id=\"h2o-table-1\" class=\"h2o-container\">\n",
       "  <table class=\"h2o-table\">\n",
       "    <caption></caption>\n",
       "    <thead></thead>\n",
       "    <tbody><tr><td>H2O_cluster_uptime:</td>\n",
       "<td>18 secs</td></tr>\n",
       "<tr><td>H2O_cluster_timezone:</td>\n",
       "<td>Europe/Berlin</td></tr>\n",
       "<tr><td>H2O_data_parsing_timezone:</td>\n",
       "<td>UTC</td></tr>\n",
       "<tr><td>H2O_cluster_version:</td>\n",
       "<td>3.46.0.7</td></tr>\n",
       "<tr><td>H2O_cluster_version_age:</td>\n",
       "<td>2 months and 15 days</td></tr>\n",
       "<tr><td>H2O_cluster_name:</td>\n",
       "<td>LucaZavarella</td></tr>\n",
       "<tr><td>H2O_cluster_total_nodes:</td>\n",
       "<td>1</td></tr>\n",
       "<tr><td>H2O_cluster_free_memory:</td>\n",
       "<td>7.867 Gb</td></tr>\n",
       "<tr><td>H2O_cluster_total_cores:</td>\n",
       "<td>14</td></tr>\n",
       "<tr><td>H2O_cluster_allowed_cores:</td>\n",
       "<td>14</td></tr>\n",
       "<tr><td>H2O_cluster_status:</td>\n",
       "<td>locked, healthy</td></tr>\n",
       "<tr><td>H2O_connection_url:</td>\n",
       "<td>http://localhost:54321</td></tr>\n",
       "<tr><td>H2O_connection_proxy:</td>\n",
       "<td>{\"http\": null, \"https\": null}</td></tr>\n",
       "<tr><td>H2O_internal_security:</td>\n",
       "<td>False</td></tr>\n",
       "<tr><td>Python_version:</td>\n",
       "<td>3.11.12 final</td></tr></tbody>\n",
       "  </table>\n",
       "</div>\n"
      ],
      "text/plain": [
       "--------------------------  -----------------------------\n",
       "H2O_cluster_uptime:         18 secs\n",
       "H2O_cluster_timezone:       Europe/Berlin\n",
       "H2O_data_parsing_timezone:  UTC\n",
       "H2O_cluster_version:        3.46.0.7\n",
       "H2O_cluster_version_age:    2 months and 15 days\n",
       "H2O_cluster_name:           LucaZavarella\n",
       "H2O_cluster_total_nodes:    1\n",
       "H2O_cluster_free_memory:    7.867 Gb\n",
       "H2O_cluster_total_cores:    14\n",
       "H2O_cluster_allowed_cores:  14\n",
       "H2O_cluster_status:         locked, healthy\n",
       "H2O_connection_url:         http://localhost:54321\n",
       "H2O_connection_proxy:       {\"http\": null, \"https\": null}\n",
       "H2O_internal_security:      False\n",
       "Python_version:             3.11.12 final\n",
       "--------------------------  -----------------------------"
      ]
     },
     "metadata": {},
     "output_type": "display_data"
    },
    {
     "name": "stdout",
     "output_type": "stream",
     "text": [
      "generic Model Build progress: |██████████████████████████████████████████████████| (done) 100%\n"
     ]
    }
   ],
   "source": [
    "h2o.init()\n",
    "\n",
    "model = h2o.import_mojo(model_path)\n",
    "\n",
    "logging.info(\"Init complete\")   "
   ]
  },
  {
   "cell_type": "code",
   "execution_count": 8,
   "id": "bf27a74d-913e-4d80-889c-8e6325448bca",
   "metadata": {
    "tags": []
   },
   "outputs": [],
   "source": [
    "q = 170.4836"
   ]
  },
  {
   "cell_type": "code",
   "execution_count": 9,
   "id": "b7c00fe0-4862-4b28-bfd6-8aea499a5fe3",
   "metadata": {
    "tags": []
   },
   "outputs": [],
   "source": [
    "raw_data = \"\"\"\n",
    "{\n",
    "  \"data\": [\n",
    "    {\n",
    "      \"Lunghezza\": 600,\n",
    "      \"Larghezza\": 400,\n",
    "      \"Altezza fiancata\": 99,\n",
    "      \"Altezza svaso\": 65,\n",
    "      \"TIPOLOGIA SCATOLA\": \"PL\",\n",
    "      \"SUPPORTO\": 0,\n",
    "      \"Thickness\": 7.5,\n",
    "      \"CodCarta1\": 3,\n",
    "      \"CodCarta2\": 1,\n",
    "      \"CodCarta3\": 1,\n",
    "      \"CodCarta4\": 2,\n",
    "      \"CodCarta5\": 2,\n",
    "      \"Alt_Testata\": 98,\n",
    "      \"C_Ond1\": 1.36,\n",
    "      \"C_Ond2\": 1.46\n",
    "    },\n",
    "    {\n",
    "      \"Lunghezza\": 600,\n",
    "      \"Larghezza\": 400,\n",
    "      \"Altezza fiancata\": 99,\n",
    "      \"Altezza svaso\": 55,\n",
    "      \"TIPOLOGIA SCATOLA\": \"PL\",\n",
    "      \"SUPPORTO\": 0,\n",
    "      \"Thickness\": 7.5,\n",
    "      \"CodCarta1\": 3,\n",
    "      \"CodCarta2\": 1,\n",
    "      \"CodCarta3\": 1,\n",
    "      \"CodCarta4\": 2,\n",
    "      \"CodCarta5\": 2,\n",
    "      \"Alt_Testata\": 98,\n",
    "      \"C_Ond1\": 1.36,\n",
    "      \"C_Ond2\": 1.46\n",
    "    }\n",
    "  ]\n",
    "}\n",
    "\"\"\""
   ]
  },
  {
   "cell_type": "code",
   "execution_count": 10,
   "id": "432505d2-caa0-4940-8f5a-35e9d379fefc",
   "metadata": {
    "tags": []
   },
   "outputs": [],
   "source": [
    "# Parsing dell'input\n",
    "data = json.loads(raw_data)\n",
    "data = data[\"data\"]\n",
    "\n",
    "# Conversione in DataFrame pandas\n",
    "input_data = pd.DataFrame(data)"
   ]
  },
  {
   "cell_type": "code",
   "execution_count": 11,
   "id": "13ca7750-7473-4e85-9e28-2e3974540130",
   "metadata": {
    "tags": []
   },
   "outputs": [
    {
     "data": {
      "application/vnd.microsoft.datawrangler.viewer.v0+json": {
       "columns": [
        {
         "name": "index",
         "rawType": "int64",
         "type": "integer"
        },
        {
         "name": "Lunghezza",
         "rawType": "int64",
         "type": "integer"
        },
        {
         "name": "Larghezza",
         "rawType": "int64",
         "type": "integer"
        },
        {
         "name": "Altezza fiancata",
         "rawType": "int64",
         "type": "integer"
        },
        {
         "name": "Altezza svaso",
         "rawType": "int64",
         "type": "integer"
        },
        {
         "name": "TIPOLOGIA SCATOLA",
         "rawType": "object",
         "type": "string"
        },
        {
         "name": "SUPPORTO",
         "rawType": "int64",
         "type": "integer"
        },
        {
         "name": "Thickness",
         "rawType": "float64",
         "type": "float"
        },
        {
         "name": "CodCarta1",
         "rawType": "int64",
         "type": "integer"
        },
        {
         "name": "CodCarta2",
         "rawType": "int64",
         "type": "integer"
        },
        {
         "name": "CodCarta3",
         "rawType": "int64",
         "type": "integer"
        },
        {
         "name": "CodCarta4",
         "rawType": "int64",
         "type": "integer"
        },
        {
         "name": "CodCarta5",
         "rawType": "int64",
         "type": "integer"
        },
        {
         "name": "Alt_Testata",
         "rawType": "int64",
         "type": "integer"
        },
        {
         "name": "C_Ond1",
         "rawType": "float64",
         "type": "float"
        },
        {
         "name": "C_Ond2",
         "rawType": "float64",
         "type": "float"
        }
       ],
       "ref": "c5a3640f-cb04-4d78-8735-43c8c149868a",
       "rows": [
        [
         "0",
         "600",
         "400",
         "99",
         "65",
         "PL",
         "0",
         "7.5",
         "3",
         "1",
         "1",
         "2",
         "2",
         "98",
         "1.36",
         "1.46"
        ],
        [
         "1",
         "600",
         "400",
         "99",
         "55",
         "PL",
         "0",
         "7.5",
         "3",
         "1",
         "1",
         "2",
         "2",
         "98",
         "1.36",
         "1.46"
        ]
       ],
       "shape": {
        "columns": 15,
        "rows": 2
       }
      },
      "text/html": [
       "<div>\n",
       "<style scoped>\n",
       "    .dataframe tbody tr th:only-of-type {\n",
       "        vertical-align: middle;\n",
       "    }\n",
       "\n",
       "    .dataframe tbody tr th {\n",
       "        vertical-align: top;\n",
       "    }\n",
       "\n",
       "    .dataframe thead th {\n",
       "        text-align: right;\n",
       "    }\n",
       "</style>\n",
       "<table border=\"1\" class=\"dataframe\">\n",
       "  <thead>\n",
       "    <tr style=\"text-align: right;\">\n",
       "      <th></th>\n",
       "      <th>Lunghezza</th>\n",
       "      <th>Larghezza</th>\n",
       "      <th>Altezza fiancata</th>\n",
       "      <th>Altezza svaso</th>\n",
       "      <th>TIPOLOGIA SCATOLA</th>\n",
       "      <th>SUPPORTO</th>\n",
       "      <th>Thickness</th>\n",
       "      <th>CodCarta1</th>\n",
       "      <th>CodCarta2</th>\n",
       "      <th>CodCarta3</th>\n",
       "      <th>CodCarta4</th>\n",
       "      <th>CodCarta5</th>\n",
       "      <th>Alt_Testata</th>\n",
       "      <th>C_Ond1</th>\n",
       "      <th>C_Ond2</th>\n",
       "    </tr>\n",
       "  </thead>\n",
       "  <tbody>\n",
       "    <tr>\n",
       "      <th>0</th>\n",
       "      <td>600</td>\n",
       "      <td>400</td>\n",
       "      <td>99</td>\n",
       "      <td>65</td>\n",
       "      <td>PL</td>\n",
       "      <td>0</td>\n",
       "      <td>7.5</td>\n",
       "      <td>3</td>\n",
       "      <td>1</td>\n",
       "      <td>1</td>\n",
       "      <td>2</td>\n",
       "      <td>2</td>\n",
       "      <td>98</td>\n",
       "      <td>1.36</td>\n",
       "      <td>1.46</td>\n",
       "    </tr>\n",
       "    <tr>\n",
       "      <th>1</th>\n",
       "      <td>600</td>\n",
       "      <td>400</td>\n",
       "      <td>99</td>\n",
       "      <td>55</td>\n",
       "      <td>PL</td>\n",
       "      <td>0</td>\n",
       "      <td>7.5</td>\n",
       "      <td>3</td>\n",
       "      <td>1</td>\n",
       "      <td>1</td>\n",
       "      <td>2</td>\n",
       "      <td>2</td>\n",
       "      <td>98</td>\n",
       "      <td>1.36</td>\n",
       "      <td>1.46</td>\n",
       "    </tr>\n",
       "  </tbody>\n",
       "</table>\n",
       "</div>"
      ],
      "text/plain": [
       "   Lunghezza  Larghezza  Altezza fiancata  Altezza svaso TIPOLOGIA SCATOLA  \\\n",
       "0        600        400                99             65                PL   \n",
       "1        600        400                99             55                PL   \n",
       "\n",
       "   SUPPORTO  Thickness  CodCarta1  CodCarta2  CodCarta3  CodCarta4  CodCarta5  \\\n",
       "0         0        7.5          3          1          1          2          2   \n",
       "1         0        7.5          3          1          1          2          2   \n",
       "\n",
       "   Alt_Testata  C_Ond1  C_Ond2  \n",
       "0           98    1.36    1.46  \n",
       "1           98    1.36    1.46  "
      ]
     },
     "execution_count": 11,
     "metadata": {},
     "output_type": "execute_result"
    }
   ],
   "source": [
    "input_data"
   ]
  },
  {
   "cell_type": "code",
   "execution_count": 12,
   "id": "0630df87-4c52-4699-8292-7d6759217616",
   "metadata": {
    "tags": []
   },
   "outputs": [
    {
     "name": "stdout",
     "output_type": "stream",
     "text": [
      "Parse progress: |████████████████████████████████████████████████████████████████| (done) 100%\n"
     ]
    }
   ],
   "source": [
    "# Conversione in H2OFrame\n",
    "input_frame = h2o.H2OFrame(input_data)\n"
   ]
  },
  {
   "cell_type": "code",
   "execution_count": 13,
   "id": "6e5b75f6-a3b6-4ada-bb2a-70b3ac6cc9b0",
   "metadata": {
    "tags": []
   },
   "outputs": [
    {
     "name": "stdout",
     "output_type": "stream",
     "text": [
      "generic prediction progress: |"
     ]
    },
    {
     "name": "stdout",
     "output_type": "stream",
     "text": [
      "███████████████████████████████████████████████████| (done) 100%\n"
     ]
    },
    {
     "name": "stderr",
     "output_type": "stream",
     "text": [
      "c:\\Users\\LucaZavarella\\miniconda3\\envs\\bct_ghelfi\\Lib\\site-packages\\h2o\\frame.py:1983: H2ODependencyWarning: Converting H2O frame to pandas dataframe using single-thread.  For faster conversion using multi-thread, install polars and pyarrow and use it as pandas_df = h2o_df.as_data_frame(use_multi_thread=True)\n",
      "\n",
      "  warnings.warn(\"Converting H2O frame to pandas dataframe using single-thread.  For faster conversion using\"\n"
     ]
    },
    {
     "data": {
      "application/vnd.microsoft.datawrangler.viewer.v0+json": {
       "columns": [
        {
         "name": "index",
         "rawType": "int64",
         "type": "integer"
        },
        {
         "name": "predict",
         "rawType": "float64",
         "type": "float"
        }
       ],
       "ref": "9a902807-a6c7-4171-9939-0f82f63604ae",
       "rows": [
        [
         "0",
         "712.4421092006138"
        ],
        [
         "1",
         "743.3401089041573"
        ]
       ],
       "shape": {
        "columns": 1,
        "rows": 2
       }
      },
      "text/html": [
       "<div>\n",
       "<style scoped>\n",
       "    .dataframe tbody tr th:only-of-type {\n",
       "        vertical-align: middle;\n",
       "    }\n",
       "\n",
       "    .dataframe tbody tr th {\n",
       "        vertical-align: top;\n",
       "    }\n",
       "\n",
       "    .dataframe thead th {\n",
       "        text-align: right;\n",
       "    }\n",
       "</style>\n",
       "<table border=\"1\" class=\"dataframe\">\n",
       "  <thead>\n",
       "    <tr style=\"text-align: right;\">\n",
       "      <th></th>\n",
       "      <th>predict</th>\n",
       "    </tr>\n",
       "  </thead>\n",
       "  <tbody>\n",
       "    <tr>\n",
       "      <th>0</th>\n",
       "      <td>712.442109</td>\n",
       "    </tr>\n",
       "    <tr>\n",
       "      <th>1</th>\n",
       "      <td>743.340109</td>\n",
       "    </tr>\n",
       "  </tbody>\n",
       "</table>\n",
       "</div>"
      ],
      "text/plain": [
       "      predict\n",
       "0  712.442109\n",
       "1  743.340109"
      ]
     },
     "execution_count": 13,
     "metadata": {},
     "output_type": "execute_result"
    }
   ],
   "source": [
    "logging.info(\"Making predictions...\")\n",
    "\n",
    "# Effettua la prediction, escludendo la colonna target\n",
    "prediction = model.predict(input_frame)\n",
    "prediction_df = prediction.as_data_frame()\n",
    "prediction_df"
   ]
  },
  {
   "cell_type": "code",
   "execution_count": 14,
   "id": "9bd76248-910b-4613-838e-0118d76c9d3b",
   "metadata": {
    "tags": []
   },
   "outputs": [],
   "source": [
    "# Estrae la predizione puntuale (si assume che sia nella prima colonna)\n",
    "prediction_list = prediction_df.iloc[:, 0].tolist()\n",
    "\n",
    "# Costruisce il JSON di output con intervallo di predizione\n",
    "results = {\"predictions\": []}\n",
    "for p in prediction_list:\n",
    "    results[\"predictions\"].append({\n",
    "        \"bct_pred\": p,\n",
    "        \"bct_lower_90\": p - q,\n",
    "        \"bct_upper_90\": p + q\n",
    "    })\n",
    "\n",
    "logging.info(\"Request processed\")"
   ]
  },
  {
   "cell_type": "code",
   "execution_count": 33,
   "id": "c2b9f3ac-5241-492c-8831-77aad20af16b",
   "metadata": {
    "tags": []
   },
   "outputs": [
    {
     "data": {
      "text/plain": [
       "{'predictions': [{'bct_predicted': 712.4421092006138,\n",
       "   'bct_lower': 542.6326092006138,\n",
       "   'bct_upper': 882.2516092006138},\n",
       "  {'bct_predicted': 743.3401089041573,\n",
       "   'bct_lower': 573.5306089041574,\n",
       "   'bct_upper': 913.1496089041573}]}"
      ]
     },
     "execution_count": 33,
     "metadata": {},
     "output_type": "execute_result"
    }
   ],
   "source": [
    "results"
   ]
  },
  {
   "cell_type": "code",
   "execution_count": null,
   "id": "bc8bab5a-fa9d-45bd-ac05-17160dafa7a1",
   "metadata": {},
   "outputs": [],
   "source": []
  }
 ],
 "metadata": {
  "kernelspec": {
   "display_name": "bct_ghelfi",
   "language": "python",
   "name": "python3"
  },
  "language_info": {
   "codemirror_mode": {
    "name": "ipython",
    "version": 3
   },
   "file_extension": ".py",
   "mimetype": "text/x-python",
   "name": "python",
   "nbconvert_exporter": "python",
   "pygments_lexer": "ipython3",
   "version": "3.11.12"
  }
 },
 "nbformat": 4,
 "nbformat_minor": 5
}
