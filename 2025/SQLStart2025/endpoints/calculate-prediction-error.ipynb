{
 "cells": [
  {
   "cell_type": "code",
   "execution_count": 16,
   "id": "7d018d2d-ab13-4e06-998d-9e3fe5f17c06",
   "metadata": {
    "tags": []
   },
   "outputs": [],
   "source": [
    "import os\n",
    "import logging\n",
    "import json\n",
    "import h2o\n",
    "import numpy as np\n",
    "import pandas as pd"
   ]
  },
  {
   "cell_type": "code",
   "execution_count": 17,
   "id": "23405b5e-2fe7-4fae-bc1a-654125ca87d1",
   "metadata": {
    "tags": []
   },
   "outputs": [],
   "source": [
    "AZUREML_MODEL_DIR = \"/mnt/batch/tasks/shared/LS_root/mounts/clusters/ci-lucazav/code/Users/lucazavarella/mojo-endpoints/online-endpoint/model\"\n",
    "model_path = os.path.join(AZUREML_MODEL_DIR, \"MOJO_model10032025.zip\")"
   ]
  },
  {
   "cell_type": "code",
   "execution_count": 18,
   "id": "7d85620f-8c29-4e2b-a406-76e209b44234",
   "metadata": {
    "tags": []
   },
   "outputs": [
    {
     "name": "stdout",
     "output_type": "stream",
     "text": [
      "Checking whether there is an H2O instance running at http://localhost:54321. connected.\n",
      "Warning: Your H2O cluster version is (1 year, 4 months and 1 day) old.  There may be a newer version available.\n",
      "Please download and install the latest version from: https://h2o-release.s3.amazonaws.com/h2o/latest_stable.html\n"
     ]
    },
    {
     "data": {
      "text/html": [
       "\n",
       "<style>\n",
       "\n",
       "#h2o-table-2.h2o-container {\n",
       "  overflow-x: auto;\n",
       "}\n",
       "#h2o-table-2 .h2o-table {\n",
       "  /* width: 100%; */\n",
       "  margin-top: 1em;\n",
       "  margin-bottom: 1em;\n",
       "}\n",
       "#h2o-table-2 .h2o-table caption {\n",
       "  white-space: nowrap;\n",
       "  caption-side: top;\n",
       "  text-align: left;\n",
       "  /* margin-left: 1em; */\n",
       "  margin: 0;\n",
       "  font-size: larger;\n",
       "}\n",
       "#h2o-table-2 .h2o-table thead {\n",
       "  white-space: nowrap; \n",
       "  position: sticky;\n",
       "  top: 0;\n",
       "  box-shadow: 0 -1px inset;\n",
       "}\n",
       "#h2o-table-2 .h2o-table tbody {\n",
       "  overflow: auto;\n",
       "}\n",
       "#h2o-table-2 .h2o-table th,\n",
       "#h2o-table-2 .h2o-table td {\n",
       "  text-align: right;\n",
       "  /* border: 1px solid; */\n",
       "}\n",
       "#h2o-table-2 .h2o-table tr:nth-child(even) {\n",
       "  /* background: #F5F5F5 */\n",
       "}\n",
       "\n",
       "</style>      \n",
       "<div id=\"h2o-table-2\" class=\"h2o-container\">\n",
       "  <table class=\"h2o-table\">\n",
       "    <caption></caption>\n",
       "    <thead></thead>\n",
       "    <tbody><tr><td>H2O_cluster_uptime:</td>\n",
       "<td>36 mins 23 secs</td></tr>\n",
       "<tr><td>H2O_cluster_timezone:</td>\n",
       "<td>Etc/UTC</td></tr>\n",
       "<tr><td>H2O_data_parsing_timezone:</td>\n",
       "<td>UTC</td></tr>\n",
       "<tr><td>H2O_cluster_version:</td>\n",
       "<td>3.44.0.3</td></tr>\n",
       "<tr><td>H2O_cluster_version_age:</td>\n",
       "<td>1 year, 4 months and 1 day</td></tr>\n",
       "<tr><td>H2O_cluster_name:</td>\n",
       "<td>H2O_from_python_azureuser_t0m2em</td></tr>\n",
       "<tr><td>H2O_cluster_total_nodes:</td>\n",
       "<td>1</td></tr>\n",
       "<tr><td>H2O_cluster_free_memory:</td>\n",
       "<td>3.409 Gb</td></tr>\n",
       "<tr><td>H2O_cluster_total_cores:</td>\n",
       "<td>4</td></tr>\n",
       "<tr><td>H2O_cluster_allowed_cores:</td>\n",
       "<td>4</td></tr>\n",
       "<tr><td>H2O_cluster_status:</td>\n",
       "<td>locked, healthy</td></tr>\n",
       "<tr><td>H2O_connection_url:</td>\n",
       "<td>http://localhost:54321</td></tr>\n",
       "<tr><td>H2O_connection_proxy:</td>\n",
       "<td>{\"http\": null, \"https\": null}</td></tr>\n",
       "<tr><td>H2O_internal_security:</td>\n",
       "<td>False</td></tr>\n",
       "<tr><td>Python_version:</td>\n",
       "<td>3.11.11 final</td></tr></tbody>\n",
       "  </table>\n",
       "</div>\n"
      ],
      "text/plain": [
       "--------------------------  --------------------------------\n",
       "H2O_cluster_uptime:         36 mins 23 secs\n",
       "H2O_cluster_timezone:       Etc/UTC\n",
       "H2O_data_parsing_timezone:  UTC\n",
       "H2O_cluster_version:        3.44.0.3\n",
       "H2O_cluster_version_age:    1 year, 4 months and 1 day\n",
       "H2O_cluster_name:           H2O_from_python_azureuser_t0m2em\n",
       "H2O_cluster_total_nodes:    1\n",
       "H2O_cluster_free_memory:    3.409 Gb\n",
       "H2O_cluster_total_cores:    4\n",
       "H2O_cluster_allowed_cores:  4\n",
       "H2O_cluster_status:         locked, healthy\n",
       "H2O_connection_url:         http://localhost:54321\n",
       "H2O_connection_proxy:       {\"http\": null, \"https\": null}\n",
       "H2O_internal_security:      False\n",
       "Python_version:             3.11.11 final\n",
       "--------------------------  --------------------------------"
      ]
     },
     "metadata": {},
     "output_type": "display_data"
    }
   ],
   "source": [
    "h2o.init()"
   ]
  },
  {
   "cell_type": "code",
   "execution_count": 19,
   "id": "ec83c88d-5505-445e-a9a6-5a6312d5ddaf",
   "metadata": {
    "tags": []
   },
   "outputs": [
    {
     "name": "stdout",
     "output_type": "stream",
     "text": [
      "generic Model Build progress: |██████████████████████████████████████████████████| (done) 100%\n"
     ]
    }
   ],
   "source": [
    "model = h2o.import_mojo(model_path)"
   ]
  },
  {
   "cell_type": "code",
   "execution_count": 20,
   "id": "f2bc73b6-c9bf-42a6-b76f-a9ca8a1936ad",
   "metadata": {
    "tags": []
   },
   "outputs": [
    {
     "name": "stderr",
     "output_type": "stream",
     "text": [
      "/anaconda/envs/mojo_env/lib/python3.11/site-packages/openpyxl/styles/stylesheet.py:237: UserWarning: Workbook contains no default style, apply openpyxl's default\n",
      "  warn(\"Workbook contains no default style, apply openpyxl's default\")\n"
     ]
    },
    {
     "data": {
      "text/html": [
       "<div>\n",
       "<style scoped>\n",
       "    .dataframe tbody tr th:only-of-type {\n",
       "        vertical-align: middle;\n",
       "    }\n",
       "\n",
       "    .dataframe tbody tr th {\n",
       "        vertical-align: top;\n",
       "    }\n",
       "\n",
       "    .dataframe thead th {\n",
       "        text-align: right;\n",
       "    }\n",
       "</style>\n",
       "<table border=\"1\" class=\"dataframe\">\n",
       "  <thead>\n",
       "    <tr style=\"text-align: right;\">\n",
       "      <th></th>\n",
       "      <th>Thickness</th>\n",
       "      <th>Lunghezza</th>\n",
       "      <th>Larghezza</th>\n",
       "      <th>Alt_Testata</th>\n",
       "      <th>Altezza fiancata</th>\n",
       "      <th>Altezza svaso</th>\n",
       "      <th>TIPOLOGIA SCATOLA</th>\n",
       "      <th>SUPPORTO</th>\n",
       "      <th>BCT MISURATO</th>\n",
       "      <th>C_Ond1</th>\n",
       "      <th>C_Ond2</th>\n",
       "      <th>CodCarta1</th>\n",
       "      <th>CodCarta2</th>\n",
       "      <th>CodCarta3</th>\n",
       "      <th>CodCarta4</th>\n",
       "      <th>CodCarta5</th>\n",
       "    </tr>\n",
       "  </thead>\n",
       "  <tbody>\n",
       "    <tr>\n",
       "      <th>0</th>\n",
       "      <td>4.85</td>\n",
       "      <td>500</td>\n",
       "      <td>300</td>\n",
       "      <td>67</td>\n",
       "      <td>68</td>\n",
       "      <td>49</td>\n",
       "      <td>ISR</td>\n",
       "      <td>0</td>\n",
       "      <td>1700</td>\n",
       "      <td>1.25</td>\n",
       "      <td>1.36</td>\n",
       "      <td>5</td>\n",
       "      <td>9</td>\n",
       "      <td>4</td>\n",
       "      <td>9</td>\n",
       "      <td>7</td>\n",
       "    </tr>\n",
       "    <tr>\n",
       "      <th>1</th>\n",
       "      <td>4.85</td>\n",
       "      <td>400</td>\n",
       "      <td>300</td>\n",
       "      <td>96</td>\n",
       "      <td>65</td>\n",
       "      <td>51</td>\n",
       "      <td>PLST</td>\n",
       "      <td>1</td>\n",
       "      <td>812</td>\n",
       "      <td>1.25</td>\n",
       "      <td>1.36</td>\n",
       "      <td>5</td>\n",
       "      <td>6</td>\n",
       "      <td>4</td>\n",
       "      <td>9</td>\n",
       "      <td>7</td>\n",
       "    </tr>\n",
       "    <tr>\n",
       "      <th>2</th>\n",
       "      <td>7.50</td>\n",
       "      <td>600</td>\n",
       "      <td>400</td>\n",
       "      <td>95</td>\n",
       "      <td>76</td>\n",
       "      <td>66</td>\n",
       "      <td>PLST</td>\n",
       "      <td>1</td>\n",
       "      <td>835</td>\n",
       "      <td>1.36</td>\n",
       "      <td>1.46</td>\n",
       "      <td>7</td>\n",
       "      <td>6</td>\n",
       "      <td>7</td>\n",
       "      <td>9</td>\n",
       "      <td>7</td>\n",
       "    </tr>\n",
       "    <tr>\n",
       "      <th>3</th>\n",
       "      <td>7.50</td>\n",
       "      <td>500</td>\n",
       "      <td>300</td>\n",
       "      <td>96</td>\n",
       "      <td>70</td>\n",
       "      <td>60</td>\n",
       "      <td>PLST</td>\n",
       "      <td>1</td>\n",
       "      <td>837</td>\n",
       "      <td>1.36</td>\n",
       "      <td>1.46</td>\n",
       "      <td>7</td>\n",
       "      <td>6</td>\n",
       "      <td>7</td>\n",
       "      <td>6</td>\n",
       "      <td>7</td>\n",
       "    </tr>\n",
       "    <tr>\n",
       "      <th>4</th>\n",
       "      <td>7.50</td>\n",
       "      <td>500</td>\n",
       "      <td>300</td>\n",
       "      <td>96</td>\n",
       "      <td>70</td>\n",
       "      <td>60</td>\n",
       "      <td>PLST</td>\n",
       "      <td>1</td>\n",
       "      <td>875</td>\n",
       "      <td>1.36</td>\n",
       "      <td>1.46</td>\n",
       "      <td>7</td>\n",
       "      <td>6</td>\n",
       "      <td>7</td>\n",
       "      <td>6</td>\n",
       "      <td>7</td>\n",
       "    </tr>\n",
       "  </tbody>\n",
       "</table>\n",
       "</div>"
      ],
      "text/plain": [
       "   Thickness  Lunghezza  Larghezza  Alt_Testata  Altezza fiancata  \\\n",
       "0       4.85        500        300           67                68   \n",
       "1       4.85        400        300           96                65   \n",
       "2       7.50        600        400           95                76   \n",
       "3       7.50        500        300           96                70   \n",
       "4       7.50        500        300           96                70   \n",
       "\n",
       "   Altezza svaso TIPOLOGIA SCATOLA  SUPPORTO  BCT MISURATO  C_Ond1  C_Ond2  \\\n",
       "0             49               ISR         0          1700    1.25    1.36   \n",
       "1             51              PLST         1           812    1.25    1.36   \n",
       "2             66              PLST         1           835    1.36    1.46   \n",
       "3             60              PLST         1           837    1.36    1.46   \n",
       "4             60              PLST         1           875    1.36    1.46   \n",
       "\n",
       "   CodCarta1  CodCarta2  CodCarta3  CodCarta4  CodCarta5  \n",
       "0          5          9          4          9          7  \n",
       "1          5          6          4          9          7  \n",
       "2          7          6          7          9          7  \n",
       "3          7          6          7          6          7  \n",
       "4          7          6          7          6          7  "
      ]
     },
     "execution_count": 20,
     "metadata": {},
     "output_type": "execute_result"
    }
   ],
   "source": [
    "data = pd.read_excel(\"data/testing_data_from_knime.xlsx\")\n",
    "data.head()"
   ]
  },
  {
   "cell_type": "code",
   "execution_count": 21,
   "id": "21ebc871-2b7a-4eda-8fcb-b43d3c1101d1",
   "metadata": {
    "tags": []
   },
   "outputs": [],
   "source": [
    "X = data.drop('BCT MISURATO', axis=1)\n",
    "y = data['BCT MISURATO']"
   ]
  },
  {
   "cell_type": "code",
   "execution_count": 22,
   "id": "77e19a25-afd0-45b8-ae29-7e5676bd63bf",
   "metadata": {
    "tags": []
   },
   "outputs": [
    {
     "name": "stdout",
     "output_type": "stream",
     "text": [
      "Parse progress: |████████████████████████████████████████████████████████████████| (done) 100%\n",
      "Parse progress: |████████████████████████████████████████████████████████████████| (done) 100%\n",
      "generic prediction progress: |███████████████████████████████████████████████████| (done) 100%\n"
     ]
    },
    {
     "data": {
      "text/html": [
       "<table class='dataframe'>\n",
       "<thead>\n",
       "<tr><th style=\"text-align: right;\">  predict</th></tr>\n",
       "</thead>\n",
       "<tbody>\n",
       "<tr><td style=\"text-align: right;\"> 1497.13 </td></tr>\n",
       "<tr><td style=\"text-align: right;\"> 1090.68 </td></tr>\n",
       "<tr><td style=\"text-align: right;\">  907.023</td></tr>\n",
       "<tr><td style=\"text-align: right;\">  853.485</td></tr>\n",
       "<tr><td style=\"text-align: right;\">  853.485</td></tr>\n",
       "<tr><td style=\"text-align: right;\"> 1497.13 </td></tr>\n",
       "<tr><td style=\"text-align: right;\">  984.571</td></tr>\n",
       "<tr><td style=\"text-align: right;\"> 1064.71 </td></tr>\n",
       "<tr><td style=\"text-align: right;\"> 1041.98 </td></tr>\n",
       "<tr><td style=\"text-align: right;\"> 1064.71 </td></tr>\n",
       "</tbody>\n",
       "</table><pre style='font-size: smaller; margin-bottom: 1em;'>[375 rows x 1 column]</pre>"
      ],
      "text/plain": [
       "  predict\n",
       "---------\n",
       " 1497.13\n",
       " 1090.68\n",
       "  907.023\n",
       "  853.485\n",
       "  853.485\n",
       " 1497.13\n",
       "  984.571\n",
       " 1064.71\n",
       " 1041.98\n",
       " 1064.71\n",
       "[375 rows x 1 column]\n"
      ]
     },
     "execution_count": 22,
     "metadata": {},
     "output_type": "execute_result"
    }
   ],
   "source": [
    "X = h2o.H2OFrame(X)\n",
    "y = h2o.H2OFrame(y.to_frame())\n",
    "\n",
    "val_pred = model.predict(X)\n",
    "val_pred"
   ]
  },
  {
   "cell_type": "code",
   "execution_count": 23,
   "id": "f5cb985c-a112-4293-8258-11f0774966ac",
   "metadata": {
    "tags": []
   },
   "outputs": [],
   "source": [
    "abs_residuals = (y - val_pred[\"predict\"]).abs()"
   ]
  },
  {
   "cell_type": "code",
   "execution_count": 24,
   "id": "4e54e80f-4b6d-487d-bf8a-00b93784fab3",
   "metadata": {
    "tags": []
   },
   "outputs": [
    {
     "name": "stdout",
     "output_type": "stream",
     "text": [
      "Quantile of residuals for alpha=0.1: 170.4836\n"
     ]
    },
    {
     "name": "stderr",
     "output_type": "stream",
     "text": [
      "/anaconda/envs/mojo_env/lib/python3.11/site-packages/h2o/frame.py:1979: H2ODependencyWarning: converting H2O frame to pandas dataframe using single-thread.  For faster conversion using multi-thread, install datatable (for Python 3.9 or lower), or polars and pyarrow (for Python 3.10 or above).\n",
      "  warnings.warn(\"converting H2O frame to pandas dataframe using single-thread.  For faster conversion using\"\n"
     ]
    }
   ],
   "source": [
    "residuals_np = abs_residuals.as_data_frame().values.flatten()  # shape (N,)\n",
    "alpha = 0.1  # for a 90% prediction interval\n",
    "q = np.quantile(residuals_np, 1 - alpha, method=\"closest_observation\")\n",
    "print(f\"Quantile of residuals for alpha={alpha}: {q:.4f}\")"
   ]
  },
  {
   "cell_type": "code",
   "execution_count": null,
   "id": "6200baa9-3421-41f2-bbe8-86aaf8556f47",
   "metadata": {},
   "outputs": [],
   "source": []
  }
 ],
 "metadata": {
  "kernelspec": {
   "display_name": "MOJO (py3.11)",
   "language": "python",
   "name": "mojo_env"
  },
  "language_info": {
   "codemirror_mode": {
    "name": "ipython",
    "version": 3
   },
   "file_extension": ".py",
   "mimetype": "text/x-python",
   "name": "python",
   "nbconvert_exporter": "python",
   "pygments_lexer": "ipython3",
   "version": "3.11.11"
  }
 },
 "nbformat": 4,
 "nbformat_minor": 5
}
